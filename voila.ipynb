{
 "cells": [
  {
   "cell_type": "code",
   "execution_count": 1,
   "id": "f1ea176f-9c2e-4c77-828b-29f5a5070588",
   "metadata": {},
   "outputs": [],
   "source": [
    "import pandas as pd\n",
    "import re\n",
    "from pandas import json_normalize\n",
    "from sklearn.cluster import KMeans\n",
    "from sklearn import cluster, datasets\n",
    "from sklearn.preprocessing import StandardScaler\n",
    "from matplotlib.lines import Line2D\n",
    "import random\n",
    "import spotipy\n",
    "from spotipy.oauth2 import SpotifyClientCredentials\n",
    "from sklearn.cluster import KMeans"
   ]
  },
  {
   "cell_type": "code",
   "execution_count": 2,
   "id": "c8a5d6a9-387a-4caf-b215-fc8bee1de2a4",
   "metadata": {},
   "outputs": [],
   "source": [
    "# !pip install spotipy"
   ]
  },
  {
   "cell_type": "code",
   "execution_count": 3,
   "id": "3bea3dc8-b317-43f6-8a06-a51aabc31216",
   "metadata": {},
   "outputs": [],
   "source": [
    "import spotipy\n",
    "from spotipy.oauth2 import SpotifyClientCredentials"
   ]
  },
  {
   "cell_type": "code",
   "execution_count": 4,
   "id": "c31ae554-d802-4975-af1e-b3941e9018ed",
   "metadata": {},
   "outputs": [],
   "source": [
    "secrets_file = open(\"secrets.txt\",\"r\")"
   ]
  },
  {
   "cell_type": "code",
   "execution_count": 5,
   "id": "2e809ea2-d87b-46c6-b38f-92df58a825b9",
   "metadata": {},
   "outputs": [],
   "source": [
    "string = secrets_file.read()"
   ]
  },
  {
   "cell_type": "code",
   "execution_count": 6,
   "id": "4967a5e3-4815-4a17-a5c1-bf2fce1de9c8",
   "metadata": {},
   "outputs": [],
   "source": [
    "secrets_dict={}\n",
    "for line in string.split('\\n'):\n",
    "    if len(line) > 0:\n",
    "        #print(line.split(':'))\n",
    "        secrets_dict[line.split(':')[0]]=line.split(':')[1].strip()"
   ]
  },
  {
   "cell_type": "code",
   "execution_count": 7,
   "id": "941a0b2e-0c01-4423-9bf0-0f02eba30bc6",
   "metadata": {},
   "outputs": [],
   "source": [
    "sp = spotipy.Spotify(auth_manager=SpotifyClientCredentials(client_id=secrets_dict['clientid'],\n",
    "                                                           client_secret=secrets_dict['clientsecret']))"
   ]
  },
  {
   "cell_type": "code",
   "execution_count": 8,
   "id": "f5b924dd-7a75-4b52-bcc3-ffc2c04cb11f",
   "metadata": {},
   "outputs": [],
   "source": [
    "songs = pd.read_csv('songs.csv')"
   ]
  },
  {
   "cell_type": "code",
   "execution_count": 9,
   "id": "9f42d8e9-0011-4e55-a08c-62f7f32146eb",
   "metadata": {},
   "outputs": [],
   "source": [
    "df_with_audiof = pd.read_csv('df_with_audiof.csv')"
   ]
  },
  {
   "cell_type": "code",
   "execution_count": 10,
   "id": "0063c5bf-d099-4836-98dc-0ecf22d69cdc",
   "metadata": {},
   "outputs": [],
   "source": [
    "X = df_with_audiof[['danceability', 'energy', 'key', 'loudness', 'mode', 'speechiness',\n",
    "                    'acousticness', 'instrumentalness', 'liveness', 'valence', 'tempo']]"
   ]
  },
  {
   "cell_type": "code",
   "execution_count": 11,
   "id": "283c277d-3014-4640-8bd9-6d12c7cd8031",
   "metadata": {},
   "outputs": [],
   "source": [
    "from sklearn.preprocessing import StandardScaler\n",
    "\n",
    "scaler = StandardScaler().fit(X)\n",
    "X_scaled = scaler.transform(X)"
   ]
  },
  {
   "cell_type": "code",
   "execution_count": 12,
   "id": "3b9bc787-ccaf-486b-8067-23c5e0ec4a8d",
   "metadata": {},
   "outputs": [],
   "source": [
    "def get_cluster_from_imput(x):\n",
    "    search_results = sp.search(q=x, limit=1)\n",
    "    song_id = search_results['tracks']['items'][0]['id']\n",
    "    audio_features = sp.audio_features(song_id)\n",
    "    audio_features_df = json_normalize(audio_features)\n",
    "    X = audio_features_df[['danceability', 'energy', 'key', 'loudness', 'mode', 'speechiness',\n",
    "                    'acousticness', 'instrumentalness', 'liveness', 'valence', 'tempo']]\n",
    "    # print('X', X)\n",
    "    X_scaled = scaler.transform(X)\n",
    "    # print('X_scaled', X_scaled)\n",
    "    cluster = kmeans.predict(X_scaled)\n",
    "    return cluster[0]"
   ]
  },
  {
   "cell_type": "code",
   "execution_count": 13,
   "id": "f7425d9e-7cd3-4039-a19a-b96d7e2b99e4",
   "metadata": {},
   "outputs": [],
   "source": [
    "def pick_one_random_song(x):\n",
    "    filtered_df = df_with_audiof[df_with_audiof['clusters'] == x]\n",
    "    random_row = filtered_df.sample(n=1, random_state=random.seed())\n",
    "    return random_row"
   ]
  },
  {
   "cell_type": "code",
   "execution_count": 14,
   "id": "3670ac8a-6781-4f34-93ee-d74e673ee8b4",
   "metadata": {},
   "outputs": [
    {
     "name": "stderr",
     "output_type": "stream",
     "text": [
      "/Users/v.adragna/anaconda3/lib/python3.10/site-packages/sklearn/cluster/_kmeans.py:870: FutureWarning: The default value of `n_init` will change from 10 to 'auto' in 1.4. Set the value of `n_init` explicitly to suppress the warning\n",
      "  warnings.warn(\n"
     ]
    },
    {
     "data": {
      "text/html": [
       "<style>#sk-container-id-1 {color: black;background-color: white;}#sk-container-id-1 pre{padding: 0;}#sk-container-id-1 div.sk-toggleable {background-color: white;}#sk-container-id-1 label.sk-toggleable__label {cursor: pointer;display: block;width: 100%;margin-bottom: 0;padding: 0.3em;box-sizing: border-box;text-align: center;}#sk-container-id-1 label.sk-toggleable__label-arrow:before {content: \"▸\";float: left;margin-right: 0.25em;color: #696969;}#sk-container-id-1 label.sk-toggleable__label-arrow:hover:before {color: black;}#sk-container-id-1 div.sk-estimator:hover label.sk-toggleable__label-arrow:before {color: black;}#sk-container-id-1 div.sk-toggleable__content {max-height: 0;max-width: 0;overflow: hidden;text-align: left;background-color: #f0f8ff;}#sk-container-id-1 div.sk-toggleable__content pre {margin: 0.2em;color: black;border-radius: 0.25em;background-color: #f0f8ff;}#sk-container-id-1 input.sk-toggleable__control:checked~div.sk-toggleable__content {max-height: 200px;max-width: 100%;overflow: auto;}#sk-container-id-1 input.sk-toggleable__control:checked~label.sk-toggleable__label-arrow:before {content: \"▾\";}#sk-container-id-1 div.sk-estimator input.sk-toggleable__control:checked~label.sk-toggleable__label {background-color: #d4ebff;}#sk-container-id-1 div.sk-label input.sk-toggleable__control:checked~label.sk-toggleable__label {background-color: #d4ebff;}#sk-container-id-1 input.sk-hidden--visually {border: 0;clip: rect(1px 1px 1px 1px);clip: rect(1px, 1px, 1px, 1px);height: 1px;margin: -1px;overflow: hidden;padding: 0;position: absolute;width: 1px;}#sk-container-id-1 div.sk-estimator {font-family: monospace;background-color: #f0f8ff;border: 1px dotted black;border-radius: 0.25em;box-sizing: border-box;margin-bottom: 0.5em;}#sk-container-id-1 div.sk-estimator:hover {background-color: #d4ebff;}#sk-container-id-1 div.sk-parallel-item::after {content: \"\";width: 100%;border-bottom: 1px solid gray;flex-grow: 1;}#sk-container-id-1 div.sk-label:hover label.sk-toggleable__label {background-color: #d4ebff;}#sk-container-id-1 div.sk-serial::before {content: \"\";position: absolute;border-left: 1px solid gray;box-sizing: border-box;top: 0;bottom: 0;left: 50%;z-index: 0;}#sk-container-id-1 div.sk-serial {display: flex;flex-direction: column;align-items: center;background-color: white;padding-right: 0.2em;padding-left: 0.2em;position: relative;}#sk-container-id-1 div.sk-item {position: relative;z-index: 1;}#sk-container-id-1 div.sk-parallel {display: flex;align-items: stretch;justify-content: center;background-color: white;position: relative;}#sk-container-id-1 div.sk-item::before, #sk-container-id-1 div.sk-parallel-item::before {content: \"\";position: absolute;border-left: 1px solid gray;box-sizing: border-box;top: 0;bottom: 0;left: 50%;z-index: -1;}#sk-container-id-1 div.sk-parallel-item {display: flex;flex-direction: column;z-index: 1;position: relative;background-color: white;}#sk-container-id-1 div.sk-parallel-item:first-child::after {align-self: flex-end;width: 50%;}#sk-container-id-1 div.sk-parallel-item:last-child::after {align-self: flex-start;width: 50%;}#sk-container-id-1 div.sk-parallel-item:only-child::after {width: 0;}#sk-container-id-1 div.sk-dashed-wrapped {border: 1px dashed gray;margin: 0 0.4em 0.5em 0.4em;box-sizing: border-box;padding-bottom: 0.4em;background-color: white;}#sk-container-id-1 div.sk-label label {font-family: monospace;font-weight: bold;display: inline-block;line-height: 1.2em;}#sk-container-id-1 div.sk-label-container {text-align: center;}#sk-container-id-1 div.sk-container {/* jupyter's `normalize.less` sets `[hidden] { display: none; }` but bootstrap.min.css set `[hidden] { display: none !important; }` so we also need the `!important` here to be able to override the default hidden behavior on the sphinx rendered scikit-learn.org. See: https://github.com/scikit-learn/scikit-learn/issues/21755 */display: inline-block !important;position: relative;}#sk-container-id-1 div.sk-text-repr-fallback {display: none;}</style><div id=\"sk-container-id-1\" class=\"sk-top-container\"><div class=\"sk-text-repr-fallback\"><pre>KMeans(n_clusters=15, random_state=42)</pre><b>In a Jupyter environment, please rerun this cell to show the HTML representation or trust the notebook. <br />On GitHub, the HTML representation is unable to render, please try loading this page with nbviewer.org.</b></div><div class=\"sk-container\" hidden><div class=\"sk-item\"><div class=\"sk-estimator sk-toggleable\"><input class=\"sk-toggleable__control sk-hidden--visually\" id=\"sk-estimator-id-1\" type=\"checkbox\" checked><label for=\"sk-estimator-id-1\" class=\"sk-toggleable__label sk-toggleable__label-arrow\">KMeans</label><div class=\"sk-toggleable__content\"><pre>KMeans(n_clusters=15, random_state=42)</pre></div></div></div></div></div>"
      ],
      "text/plain": [
       "KMeans(n_clusters=15, random_state=42)"
      ]
     },
     "execution_count": 14,
     "metadata": {},
     "output_type": "execute_result"
    }
   ],
   "source": [
    "kmeans = KMeans(n_clusters=15, random_state=42)  \n",
    "kmeans.fit(X_scaled)"
   ]
  },
  {
   "cell_type": "code",
   "execution_count": 15,
   "id": "9e52f3ac-aa4a-464d-b8c5-b83dc8c56486",
   "metadata": {},
   "outputs": [
    {
     "data": {
      "text/plain": [
       "1"
      ]
     },
     "execution_count": 15,
     "metadata": {},
     "output_type": "execute_result"
    }
   ],
   "source": [
    "get_cluster_from_imput('When I Was Your Man')"
   ]
  },
  {
   "cell_type": "code",
   "execution_count": 26,
   "id": "3fa570df-d00f-46d7-a566-26986d55414f",
   "metadata": {},
   "outputs": [
    {
     "data": {
      "application/vnd.jupyter.widget-view+json": {
       "model_id": "e9ff965c76c84560953dae99e0f4200f",
       "version_major": 2,
       "version_minor": 0
      },
      "text/plain": [
       "Text(value='', description='Search', layout=Layout(width='800px'))"
      ]
     },
     "metadata": {},
     "output_type": "display_data"
    },
    {
     "data": {
      "application/vnd.jupyter.widget-view+json": {
       "model_id": "ca46937eaf28412c91b54b3391cebc12",
       "version_major": 2,
       "version_minor": 0
      },
      "text/plain": [
       "Button(description='Submit', style=ButtonStyle())"
      ]
     },
     "metadata": {},
     "output_type": "display_data"
    }
   ],
   "source": [
    "from ipywidgets import interact, widgets\n",
    "from IPython.display import Image, display\n",
    "\n",
    "# Set the maximum column width for display\n",
    "max_characters = 100\n",
    "pd.set_option(\"display.max_colwidth\", max_characters)\n",
    "\n",
    "# Load your songs DataFrame (assuming it's already loaded)\n",
    "\n",
    "# Function to handle user input and display results\n",
    "def handle_user_input(user_input):\n",
    "    user_input = user_input.lower()\n",
    "    \n",
    "    if user_input in songs['title'].values:\n",
    "        suggested_titles = songs[songs['title'] != user_input]['title']\n",
    "        if not suggested_titles.empty:\n",
    "            print(\"You like hit songs. You might also like: \" + suggested_titles.sample().values[0])\n",
    "    else:\n",
    "        search_results = sp.search(q=user_input, limit=10)\n",
    "        song_info = search_results['tracks']['items'][0]['artists'][0]['name']\n",
    "        print(\"I am going to search similar songs to \" + user_input + \" from \" + search_results['tracks']['items'][0]['artists'][0]['name'])\n",
    "        imput_cluster = get_cluster_from_imput(user_input)\n",
    "        random_row = pick_one_random_song(imput_cluster)\n",
    "        print('You might also like ' + random_row['track.name'] + ' by ' + random_row['name'])\n",
    "        spotify_track_url = 'https://open.spotify.com/track/' + random_row['song_id']\n",
    "        print(\"link: \", spotify_track_url)\n",
    "        artist_info = sp.search(q=random_row['name'], type='artist', limit=1)\n",
    "        image_url = artist_info['artists']['items'][0]['images'][0]['url']\n",
    "        display(Image(url=image_url))\n",
    "\n",
    "# Create a text input field and a button\n",
    "text_input = widgets.Text(description=\"Search\")\n",
    "text_input.layout.width = '800px' \n",
    "\n",
    "# Define a function to handle button click event\n",
    "def on_submit_button_click(b):\n",
    "    user_input = text_input.value\n",
    "    handle_user_input(user_input)\n",
    "\n",
    "# Assign the click event handler to the button\n",
    "submit_button.on_click(on_submit_button_click)\n",
    "\n",
    "# Display the text input and button\n",
    "display(text_input)\n",
    "display(submit_button)\n"
   ]
  },
  {
   "cell_type": "code",
   "execution_count": 17,
   "id": "c448bf80-6dd4-43c9-9440-dda94cd8ad0c",
   "metadata": {},
   "outputs": [],
   "source": [
    "# !pip install voila"
   ]
  },
  {
   "cell_type": "code",
   "execution_count": 18,
   "id": "ccb0cde9-c4bf-423e-bbb2-485433ffec94",
   "metadata": {},
   "outputs": [
    {
     "name": "stdout",
     "output_type": "stream",
     "text": [
      "[Voila] Using /var/folders/n7/3f1mct1521j5vz1r2r1xwby80000gn/T to store connection files\n",
      "[Voila] Storing connection files in /var/folders/n7/3f1mct1521j5vz1r2r1xwby80000gn/T/voila_t50yzbd_.\n",
      "[Voila] Serving static files from /Users/v.adragna/anaconda3/lib/python3.10/site-packages/voila/static.\n",
      "[Voila] The port 8866 is already in use, trying another port.\n",
      "[Voila] Voilà is running at:\n",
      "http://localhost:8867/\n",
      "[Voila] WARNING | Clearing invalid/expired login cookie username-localhost-8867\n",
      "[Voila] Kernel started: 38e9989f-9546-4135-b770-c63ab54d9cac\n",
      "[Voila] WARNING | No handler found for comm target 'comm'\n",
      "[Voila] WARNING | No handler found for comm target 'comm'\n",
      "[Voila] WARNING | No handler found for comm target 'comm'\n",
      "[Voila] WARNING | No handler found for comm target 'comm'\n",
      "[Voila] WARNING | No handler found for comm target 'comm'\n",
      "[Voila] WARNING | No handler found for comm target 'comm'\n"
     ]
    }
   ],
   "source": [
    "# !voila Voila.ipynb"
   ]
  },
  {
   "cell_type": "code",
   "execution_count": null,
   "id": "0f2845cc-bbc5-41e2-8e23-bb63cc7c8066",
   "metadata": {},
   "outputs": [],
   "source": []
  }
 ],
 "metadata": {
  "kernelspec": {
   "display_name": "Python 3 (ipykernel)",
   "language": "python",
   "name": "python3"
  },
  "language_info": {
   "codemirror_mode": {
    "name": "ipython",
    "version": 3
   },
   "file_extension": ".py",
   "mimetype": "text/x-python",
   "name": "python",
   "nbconvert_exporter": "python",
   "pygments_lexer": "ipython3",
   "version": "3.10.9"
  }
 },
 "nbformat": 4,
 "nbformat_minor": 5
}
